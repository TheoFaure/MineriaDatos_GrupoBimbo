{
 "cells": [
  {
   "cell_type": "code",
   "execution_count": 1,
   "metadata": {
    "collapsed": false
   },
   "outputs": [
    {
     "data": {
      "text/html": [
       "<div>\n",
       "<table border=\"1\" class=\"dataframe\">\n",
       "  <thead>\n",
       "    <tr style=\"text-align: right;\">\n",
       "      <th></th>\n",
       "      <th>Semana</th>\n",
       "      <th>Agencia_ID</th>\n",
       "      <th>Canal_ID</th>\n",
       "      <th>Ruta_SAK</th>\n",
       "      <th>Cliente_ID</th>\n",
       "      <th>Producto_ID</th>\n",
       "      <th>Venta_uni_hoy</th>\n",
       "      <th>Venta_hoy</th>\n",
       "      <th>Dev_uni_proxima</th>\n",
       "      <th>Dev_proxima</th>\n",
       "      <th>Demanda_uni_equil</th>\n",
       "    </tr>\n",
       "  </thead>\n",
       "  <tbody>\n",
       "    <tr>\n",
       "      <th>0</th>\n",
       "      <td>3</td>\n",
       "      <td>1111</td>\n",
       "      <td>1</td>\n",
       "      <td>1015</td>\n",
       "      <td>65477</td>\n",
       "      <td>3631</td>\n",
       "      <td>1</td>\n",
       "      <td>16.35</td>\n",
       "      <td>0</td>\n",
       "      <td>0.0</td>\n",
       "      <td>1</td>\n",
       "    </tr>\n",
       "    <tr>\n",
       "      <th>1</th>\n",
       "      <td>3</td>\n",
       "      <td>1111</td>\n",
       "      <td>1</td>\n",
       "      <td>1216</td>\n",
       "      <td>74840</td>\n",
       "      <td>35651</td>\n",
       "      <td>3</td>\n",
       "      <td>22.50</td>\n",
       "      <td>0</td>\n",
       "      <td>0.0</td>\n",
       "      <td>3</td>\n",
       "    </tr>\n",
       "    <tr>\n",
       "      <th>2</th>\n",
       "      <td>3</td>\n",
       "      <td>1111</td>\n",
       "      <td>1</td>\n",
       "      <td>1402</td>\n",
       "      <td>2116885</td>\n",
       "      <td>35651</td>\n",
       "      <td>4</td>\n",
       "      <td>30.00</td>\n",
       "      <td>0</td>\n",
       "      <td>0.0</td>\n",
       "      <td>4</td>\n",
       "    </tr>\n",
       "    <tr>\n",
       "      <th>3</th>\n",
       "      <td>3</td>\n",
       "      <td>1111</td>\n",
       "      <td>1</td>\n",
       "      <td>1416</td>\n",
       "      <td>2070481</td>\n",
       "      <td>1242</td>\n",
       "      <td>6</td>\n",
       "      <td>45.84</td>\n",
       "      <td>0</td>\n",
       "      <td>0.0</td>\n",
       "      <td>6</td>\n",
       "    </tr>\n",
       "    <tr>\n",
       "      <th>4</th>\n",
       "      <td>3</td>\n",
       "      <td>1112</td>\n",
       "      <td>1</td>\n",
       "      <td>1001</td>\n",
       "      <td>327554</td>\n",
       "      <td>1129</td>\n",
       "      <td>12</td>\n",
       "      <td>211.20</td>\n",
       "      <td>0</td>\n",
       "      <td>0.0</td>\n",
       "      <td>12</td>\n",
       "    </tr>\n",
       "  </tbody>\n",
       "</table>\n",
       "</div>"
      ],
      "text/plain": [
       "  Semana Agencia_ID Canal_ID Ruta_SAK Cliente_ID Producto_ID  Venta_uni_hoy  \\\n",
       "0      3       1111        1     1015      65477        3631              1   \n",
       "1      3       1111        1     1216      74840       35651              3   \n",
       "2      3       1111        1     1402    2116885       35651              4   \n",
       "3      3       1111        1     1416    2070481        1242              6   \n",
       "4      3       1112        1     1001     327554        1129             12   \n",
       "\n",
       "   Venta_hoy  Dev_uni_proxima  Dev_proxima  Demanda_uni_equil  \n",
       "0      16.35                0          0.0                  1  \n",
       "1      22.50                0          0.0                  3  \n",
       "2      30.00                0          0.0                  4  \n",
       "3      45.84                0          0.0                  6  \n",
       "4     211.20                0          0.0                 12  "
      ]
     },
     "execution_count": 1,
     "metadata": {},
     "output_type": "execute_result"
    }
   ],
   "source": [
    "from kmodes.kprototypes import KPrototypes\n",
    "import pandas as pd\n",
    "import numpy as np\n",
    "import matplotlib.pyplot as plt\n",
    "dataset = pd.read_csv(\"10000sample.csv\")\n",
    "categorical = ['Semana', 'Agencia_ID', 'Canal_ID', 'Ruta_SAK', 'Cliente_ID', 'Producto_ID']\n",
    "for it in categorical:\n",
    "    dataset[it] = [str(x) for x in dataset[it]]\n",
    "#dataset.drop('Cliente_ID', axis=1, inplace=True)\n",
    "dataset.head()"
   ]
  },
  {
   "cell_type": "code",
   "execution_count": 8,
   "metadata": {
    "collapsed": false
   },
   "outputs": [
    {
     "name": "stdout",
     "output_type": "stream",
     "text": [
      "Init: initializing centroids\n",
      "Init: initializing clusters\n",
      "Starting iterations...\n",
      "Run: 1, iteration: 1/100, moves: 510, ncost: 260246105.773\n",
      "Run: 1, iteration: 2/100, moves: 647, ncost: 179103512.076\n",
      "Run: 1, iteration: 3/100, moves: 395, ncost: 161277487.041\n",
      "Run: 1, iteration: 4/100, moves: 207, ncost: 153018455.095\n",
      "Run: 1, iteration: 5/100, moves: 135, ncost: 144467231.627\n",
      "Run: 1, iteration: 6/100, moves: 90, ncost: 134533623.923\n",
      "Run: 1, iteration: 7/100, moves: 40, ncost: 129863191.268\n",
      "Run: 1, iteration: 8/100, moves: 23, ncost: 125029271.418\n",
      "Run: 1, iteration: 9/100, moves: 26, ncost: 117652771.447\n",
      "Run: 1, iteration: 10/100, moves: 13, ncost: 115600756.502\n",
      "Run: 1, iteration: 11/100, moves: 3, ncost: 115505375.295\n",
      "Run: 1, iteration: 12/100, moves: 0, ncost: 115505375.295\n",
      "Init: initializing centroids\n",
      "Init: initializing clusters\n",
      "Init: initializing centroids\n",
      "Init: initializing clusters\n",
      "Starting iterations...\n",
      "Run: 2, iteration: 1/100, moves: 1414, ncost: 211399328.422\n",
      "Run: 2, iteration: 2/100, moves: 844, ncost: 169563708.997\n",
      "Run: 2, iteration: 3/100, moves: 399, ncost: 157369959.024\n",
      "Run: 2, iteration: 4/100, moves: 224, ncost: 149372878.87\n",
      "Run: 2, iteration: 5/100, moves: 121, ncost: 139983508.619\n",
      "Run: 2, iteration: 6/100, moves: 55, ncost: 133556527.874\n",
      "Run: 2, iteration: 7/100, moves: 29, ncost: 128592126.495\n",
      "Run: 2, iteration: 8/100, moves: 26, ncost: 124341249.099\n",
      "Run: 2, iteration: 9/100, moves: 21, ncost: 117505000.563\n",
      "Run: 2, iteration: 10/100, moves: 12, ncost: 115600756.502\n",
      "Run: 2, iteration: 11/100, moves: 3, ncost: 115505375.295\n",
      "Run: 2, iteration: 12/100, moves: 0, ncost: 115505375.295\n",
      "Init: initializing centroids\n",
      "Init: initializing clusters\n",
      "Starting iterations...\n",
      "Run: 3, iteration: 1/100, moves: 1112, ncost: 226260291.922\n",
      "Run: 3, iteration: 2/100, moves: 816, ncost: 171607559.038\n",
      "Run: 3, iteration: 3/100, moves: 394, ncost: 160984019.098\n",
      "Run: 3, iteration: 4/100, moves: 196, ncost: 152755551.826\n",
      "Run: 3, iteration: 5/100, moves: 131, ncost: 144253967.275\n",
      "Run: 3, iteration: 6/100, moves: 87, ncost: 134467831.397\n",
      "Run: 3, iteration: 7/100, moves: 39, ncost: 129863191.268\n",
      "Run: 3, iteration: 8/100, moves: 23, ncost: 125029271.418\n",
      "Run: 3, iteration: 9/100, moves: 26, ncost: 117652771.447\n",
      "Run: 3, iteration: 10/100, moves: 13, ncost: 115600756.502\n",
      "Run: 3, iteration: 11/100, moves: 3, ncost: 115505375.295\n",
      "Run: 3, iteration: 12/100, moves: 0, ncost: 115505375.295\n",
      "Init: initializing centroids\n",
      "Init: initializing clusters\n",
      "Starting iterations...\n",
      "Run: 4, iteration: 1/100, moves: 2177, ncost: 230510566.189\n",
      "Run: 4, iteration: 2/100, moves: 1153, ncost: 175567899.549\n",
      "Run: 4, iteration: 3/100, moves: 496, ncost: 162072473.033\n",
      "Run: 4, iteration: 4/100, moves: 231, ncost: 153986202.327\n",
      "Run: 4, iteration: 5/100, moves: 148, ncost: 145301214.179\n",
      "Run: 4, iteration: 6/100, moves: 96, ncost: 135362253.11\n",
      "Run: 4, iteration: 7/100, moves: 47, ncost: 130203152.961\n",
      "Run: 4, iteration: 8/100, moves: 27, ncost: 125029271.418\n",
      "Run: 4, iteration: 9/100, moves: 26, ncost: 117652771.447\n",
      "Run: 4, iteration: 10/100, moves: 13, ncost: 115600756.502\n",
      "Run: 4, iteration: 11/100, moves: 3, ncost: 115505375.295\n",
      "Run: 4, iteration: 12/100, moves: 0, ncost: 115505375.295\n",
      "Init: initializing centroids\n",
      "Init: initializing clusters\n",
      "Init: initializing centroids\n",
      "Init: initializing clusters\n",
      "Init: initializing centroids\n",
      "Init: initializing clusters\n",
      "Init: initializing centroids\n",
      "Init: initializing clusters\n",
      "Starting iterations...\n",
      "Run: 5, iteration: 1/100, moves: 2683, ncost: 345836103.208\n",
      "Run: 5, iteration: 2/100, moves: 1753, ncost: 218273213.283\n",
      "Run: 5, iteration: 3/100, moves: 887, ncost: 169664308.461\n",
      "Run: 5, iteration: 4/100, moves: 406, ncost: 157369901.667\n",
      "Run: 5, iteration: 5/100, moves: 224, ncost: 149372878.87\n",
      "Run: 5, iteration: 6/100, moves: 121, ncost: 139983508.619\n",
      "Run: 5, iteration: 7/100, moves: 55, ncost: 133556527.874\n",
      "Run: 5, iteration: 8/100, moves: 29, ncost: 128592126.495\n",
      "Run: 5, iteration: 9/100, moves: 26, ncost: 124341249.099\n",
      "Run: 5, iteration: 10/100, moves: 21, ncost: 117505000.563\n",
      "Run: 5, iteration: 11/100, moves: 12, ncost: 115600756.502\n",
      "Run: 5, iteration: 12/100, moves: 3, ncost: 115505375.295\n",
      "Run: 5, iteration: 13/100, moves: 0, ncost: 115505375.295\n",
      "Init: initializing centroids\n",
      "Init: initializing clusters\n",
      "Init: initializing centroids\n",
      "Init: initializing clusters\n",
      "Init: initializing centroids\n",
      "Init: initializing clusters\n",
      "Starting iterations...\n",
      "Run: 6, iteration: 1/100, moves: 2476, ncost: 243635108.474\n",
      "Run: 6, iteration: 2/100, moves: 1290, ncost: 180787201.243\n",
      "Run: 6, iteration: 3/100, moves: 556, ncost: 162831389.96\n",
      "Run: 6, iteration: 4/100, moves: 262, ncost: 154607175.832\n",
      "Run: 6, iteration: 5/100, moves: 158, ncost: 145802331.656\n",
      "Run: 6, iteration: 6/100, moves: 104, ncost: 135621104.755\n",
      "Run: 6, iteration: 7/100, moves: 50, ncost: 130203152.961\n",
      "Run: 6, iteration: 8/100, moves: 27, ncost: 125029271.418\n",
      "Run: 6, iteration: 9/100, moves: 26, ncost: 117652771.447\n",
      "Run: 6, iteration: 10/100, moves: 13, ncost: 115600756.502\n",
      "Run: 6, iteration: 11/100, moves: 3, ncost: 115505375.295\n",
      "Run: 6, iteration: 12/100, moves: 0, ncost: 115505375.295\n",
      "Init: initializing centroids\n",
      "Init: initializing clusters\n",
      "Init: initializing centroids\n",
      "Init: initializing clusters\n",
      "Init: initializing centroids\n",
      "Init: initializing clusters\n",
      "Starting iterations...\n",
      "Run: 7, iteration: 1/100, moves: 960, ncost: 298795753.555\n",
      "Run: 7, iteration: 2/100, moves: 645, ncost: 191947624.136\n",
      "Run: 7, iteration: 3/100, moves: 425, ncost: 162382670.68\n",
      "Run: 7, iteration: 4/100, moves: 247, ncost: 154149609.892\n",
      "Run: 7, iteration: 5/100, moves: 151, ncost: 145398015.876\n",
      "Run: 7, iteration: 6/100, moves: 98, ncost: 135362253.11\n",
      "Run: 7, iteration: 7/100, moves: 47, ncost: 130203152.961\n",
      "Run: 7, iteration: 8/100, moves: 27, ncost: 125029271.418\n",
      "Run: 7, iteration: 9/100, moves: 26, ncost: 117652771.447\n",
      "Run: 7, iteration: 10/100, moves: 13, ncost: 115600756.502\n",
      "Run: 7, iteration: 11/100, moves: 3, ncost: 115505375.295\n",
      "Run: 7, iteration: 12/100, moves: 0, ncost: 115505375.295\n",
      "Init: initializing centroids\n",
      "Init: initializing clusters\n",
      "Init: initializing centroids\n",
      "Init: initializing clusters\n",
      "Starting iterations...\n",
      "Run: 8, iteration: 1/100, moves: 170, ncost: 188662291.689\n",
      "Run: 8, iteration: 2/100, moves: 253, ncost: 158360757.997\n",
      "Run: 8, iteration: 3/100, moves: 188, ncost: 151529456.314\n",
      "Run: 8, iteration: 4/100, moves: 117, ncost: 143099370.141\n",
      "Run: 8, iteration: 5/100, moves: 72, ncost: 133990665.465\n",
      "Run: 8, iteration: 6/100, moves: 35, ncost: 128592126.495\n",
      "Run: 8, iteration: 7/100, moves: 26, ncost: 124341249.099\n",
      "Run: 8, iteration: 8/100, moves: 21, ncost: 117505000.563\n",
      "Run: 8, iteration: 9/100, moves: 12, ncost: 115600756.502\n",
      "Run: 8, iteration: 10/100, moves: 3, ncost: 115505375.295\n",
      "Run: 8, iteration: 11/100, moves: 0, ncost: 115505375.295\n",
      "Init: initializing centroids\n",
      "Init: initializing clusters\n",
      "Init: initializing centroids\n",
      "Init: initializing clusters\n",
      "Starting iterations...\n",
      "Run: 9, iteration: 1/100, moves: 291, ncost: 221266422.158\n",
      "Run: 9, iteration: 2/100, moves: 355, ncost: 168612315.629\n",
      "Run: 9, iteration: 3/100, moves: 252, ncost: 156541312.835\n",
      "Run: 9, iteration: 4/100, moves: 184, ncost: 148567709.425\n",
      "Run: 9, iteration: 5/100, moves: 110, ncost: 138798725.95\n",
      "Run: 9, iteration: 6/100, moves: 56, ncost: 132279678.269\n",
      "Run: 9, iteration: 7/100, moves: 32, ncost: 126292168.356\n",
      "Run: 9, iteration: 8/100, moves: 34, ncost: 117957779.957\n",
      "Run: 9, iteration: 9/100, moves: 13, ncost: 115744555.031\n",
      "Run: 9, iteration: 10/100, moves: 5, ncost: 115505375.295\n",
      "Run: 9, iteration: 11/100, moves: 0, ncost: 115505375.295\n",
      "Init: initializing centroids\n",
      "Init: initializing clusters\n",
      "Starting iterations...\n",
      "Run: 10, iteration: 1/100, moves: 434, ncost: 203350316.578\n",
      "Run: 10, iteration: 2/100, moves: 376, ncost: 162872366.967\n",
      "Run: 10, iteration: 3/100, moves: 183, ncost: 152755551.826\n",
      "Run: 10, iteration: 4/100, moves: 131, ncost: 144253967.275\n",
      "Run: 10, iteration: 5/100, moves: 87, ncost: 134467831.397\n",
      "Run: 10, iteration: 6/100, moves: 39, ncost: 129863191.268\n",
      "Run: 10, iteration: 7/100, moves: 23, ncost: 125029271.418\n",
      "Run: 10, iteration: 8/100, moves: 26, ncost: 117652771.447\n",
      "Run: 10, iteration: 9/100, moves: 13, ncost: 115600756.502\n",
      "Run: 10, iteration: 10/100, moves: 3, ncost: 115505375.295\n",
      "Run: 10, iteration: 11/100, moves: 0, ncost: 115505375.295\n",
      "Best run was number 9\n"
     ]
    }
   ],
   "source": [
    "k_proto = KPrototypes(n_clusters=3, verbose=2).fit(data, categorical = [0,1,2,3,4,5])\n",
    "yk_pred = k_proto.predict(data, categorical = [0,1,2,3,4,5])"
   ]
  },
  {
   "cell_type": "code",
   "execution_count": 9,
   "metadata": {
    "collapsed": true
   },
   "outputs": [],
   "source": [
    "colors = np.array([x for x in 'bgrcmykbgrcmykbgrcmykbgrcmyk'])\n",
    "colors = np.hstack([colors] * 20)"
   ]
  },
  {
   "cell_type": "code",
   "execution_count": 21,
   "metadata": {
    "collapsed": false
   },
   "outputs": [
    {
     "data": {
      "image/png": "[encoded data removed]",
      "text/plain": [
       "<matplotlib.figure.Figure at 0x11266748>"
      ]
     },
     "metadata": {},
     "output_type": "display_data"
    }
   ],
   "source": [
    "plt.xlabel('Venta_hoy')\n",
    "plt.ylabel('Demanda_uni_equil')\n",
    "plt.title('K-Prototypes results')\n",
    "plt.scatter(data[:, 7],data[:, 10],  color=colors[yk_pred].tolist(), s=10)\n",
    "plt.show()"
   ]
  },
  {
   "cell_type": "code",
   "execution_count": 13,
   "metadata": {
    "collapsed": false
   },
   "outputs": [
    {
     "data": {
      "text/plain": [
       "array(['3631', '35651', '35651', ..., '43014', '40930', '31514'], dtype=object)"
      ]
     },
     "execution_count": 13,
     "metadata": {},
     "output_type": "execute_result"
    }
   ],
   "source": [
    "data[:, 5]"
   ]
  },
  {
   "cell_type": "code",
   "execution_count": null,
   "metadata": {
    "collapsed": true
   },
   "outputs": [],
   "source": [
    "df = pd.read_csv(\"trtest.csv\")"
   ]
  },
  {
   "cell_type": "code",
   "execution_count": null,
   "metadata": {
    "collapsed": false
   },
   "outputs": [],
   "source": [
    "df"
   ]
  },
  {
   "cell_type": "code",
   "execution_count": null,
   "metadata": {
    "collapsed": false
   },
   "outputs": [],
   "source": [
    "data"
   ]
  },
  {
   "cell_type": "code",
   "execution_count": null,
   "metadata": {
    "collapsed": true
   },
   "outputs": [],
   "source": []
  }
 ],
 "metadata": {
  "anaconda-cloud": {},
  "kernelspec": {
   "display_name": "Python [default]",
   "language": "python",
   "name": "python2"
  },
  "language_info": {
   "codemirror_mode": {
    "name": "ipython",
    "version": 2
   },
   "file_extension": ".py",
   "mimetype": "text/x-python",
   "name": "python",
   "nbconvert_exporter": "python",
   "pygments_lexer": "ipython2",
   "version": "2.7.12"
  }
 },
 "nbformat": 4,
 "nbformat_minor": 1
}
