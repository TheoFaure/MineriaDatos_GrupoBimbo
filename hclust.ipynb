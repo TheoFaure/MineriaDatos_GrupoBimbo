{
 "cells": [
  {
   "cell_type": "code",
   "execution_count": 2,
   "metadata": {
    "collapsed": false
   },
   "outputs": [],
   "source": [
    "def simpleRandomSampling():\n",
    "    \"\"\"Simple Random Sampling (without replacement).\n",
    "        List sequential algorithm: FAN-MULLER.\n",
    "    \"\"\"\n",
    "    import random\n",
    "    filepath = \"C:/Users/user/Documents/MD/bimbo/\"\n",
    "    in_file = filepath + \"sample.csv\"\n",
    "    out_file = filepath + \"10000sample.csv\"\n",
    "    N = 1000000 #population size\n",
    "    n = 10000 #desired sample size\n",
    "   \n",
    "    with open(in_file, 'r') as inf, open(out_file, 'w') as outf:\n",
    "        nk = 0 #selected elems\n",
    "        k = 0 #elem index\n",
    "        header = inf.readline() #reads the header\n",
    "        outf.write(header)\n",
    "        for line in inf:\n",
    "            k = k + 1\n",
    "            p = (n - nk)/ float(N - k + 1) #probability of elem k\n",
    "            newrandom = random.SystemRandom().random()\n",
    "            if newrandom < p:\n",
    "                nk = nk + 1\n",
    "                outf.write(line)\n",
    "                \n",
    "simpleRandomSampling()"
   ]
  },
  {
   "cell_type": "code",
   "execution_count": null,
   "metadata": {
    "collapsed": true
   },
   "outputs": [],
   "source": []
  }
 ],
 "metadata": {
  "anaconda-cloud": {},
  "kernelspec": {
   "display_name": "Python [conda root]",
   "language": "python",
   "name": "conda-root-py"
  },
  "language_info": {
   "codemirror_mode": {
    "name": "ipython",
    "version": 2
   },
   "file_extension": ".py",
   "mimetype": "text/x-python",
   "name": "python",
   "nbconvert_exporter": "python",
   "pygments_lexer": "ipython2",
   "version": "2.7.12"
  }
 },
 "nbformat": 4,
 "nbformat_minor": 1
}
