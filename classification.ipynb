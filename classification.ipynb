{
 "cells": [
  {
   "cell_type": "code",
   "execution_count": 1,
   "metadata": {
    "collapsed": false
   },
   "outputs": [
    {
     "data": {
      "text/html": [
       "<div>\n",
       "<table border=\"1\" class=\"dataframe\">\n",
       "  <thead>\n",
       "    <tr style=\"text-align: right;\">\n",
       "      <th></th>\n",
       "      <th>Semana</th>\n",
       "      <th>Agencia_ID</th>\n",
       "      <th>Canal_ID</th>\n",
       "      <th>Ruta_SAK</th>\n",
       "      <th>Cliente_ID</th>\n",
       "      <th>Producto_ID</th>\n",
       "      <th>Venta_uni_hoy</th>\n",
       "      <th>Venta_hoy</th>\n",
       "      <th>Dev_uni_proxima</th>\n",
       "      <th>Dev_proxima</th>\n",
       "      <th>Demanda_uni_equil</th>\n",
       "    </tr>\n",
       "  </thead>\n",
       "  <tbody>\n",
       "    <tr>\n",
       "      <th>0</th>\n",
       "      <td>3</td>\n",
       "      <td>1110</td>\n",
       "      <td>7</td>\n",
       "      <td>3301</td>\n",
       "      <td>15766</td>\n",
       "      <td>31506</td>\n",
       "      <td>10</td>\n",
       "      <td>62.50</td>\n",
       "      <td>0</td>\n",
       "      <td>0.0</td>\n",
       "      <td>10</td>\n",
       "    </tr>\n",
       "    <tr>\n",
       "      <th>1</th>\n",
       "      <td>3</td>\n",
       "      <td>1110</td>\n",
       "      <td>7</td>\n",
       "      <td>3301</td>\n",
       "      <td>319641</td>\n",
       "      <td>2233</td>\n",
       "      <td>23</td>\n",
       "      <td>458.62</td>\n",
       "      <td>0</td>\n",
       "      <td>0.0</td>\n",
       "      <td>23</td>\n",
       "    </tr>\n",
       "    <tr>\n",
       "      <th>2</th>\n",
       "      <td>3</td>\n",
       "      <td>1110</td>\n",
       "      <td>7</td>\n",
       "      <td>3301</td>\n",
       "      <td>325070</td>\n",
       "      <td>1125</td>\n",
       "      <td>6</td>\n",
       "      <td>57.60</td>\n",
       "      <td>0</td>\n",
       "      <td>0.0</td>\n",
       "      <td>6</td>\n",
       "    </tr>\n",
       "    <tr>\n",
       "      <th>3</th>\n",
       "      <td>3</td>\n",
       "      <td>1110</td>\n",
       "      <td>7</td>\n",
       "      <td>3301</td>\n",
       "      <td>1307034</td>\n",
       "      <td>32933</td>\n",
       "      <td>1</td>\n",
       "      <td>7.04</td>\n",
       "      <td>0</td>\n",
       "      <td>0.0</td>\n",
       "      <td>1</td>\n",
       "    </tr>\n",
       "    <tr>\n",
       "      <th>4</th>\n",
       "      <td>3</td>\n",
       "      <td>1110</td>\n",
       "      <td>7</td>\n",
       "      <td>3301</td>\n",
       "      <td>2331717</td>\n",
       "      <td>1220</td>\n",
       "      <td>1</td>\n",
       "      <td>7.64</td>\n",
       "      <td>0</td>\n",
       "      <td>0.0</td>\n",
       "      <td>1</td>\n",
       "    </tr>\n",
       "  </tbody>\n",
       "</table>\n",
       "</div>"
      ],
      "text/plain": [
       "  Semana Agencia_ID Canal_ID Ruta_SAK Cliente_ID Producto_ID  Venta_uni_hoy  \\\n",
       "0      3       1110        7     3301      15766       31506             10   \n",
       "1      3       1110        7     3301     319641        2233             23   \n",
       "2      3       1110        7     3301     325070        1125              6   \n",
       "3      3       1110        7     3301    1307034       32933              1   \n",
       "4      3       1110        7     3301    2331717        1220              1   \n",
       "\n",
       "   Venta_hoy  Dev_uni_proxima  Dev_proxima  Demanda_uni_equil  \n",
       "0      62.50                0          0.0                 10  \n",
       "1     458.62                0          0.0                 23  \n",
       "2      57.60                0          0.0                  6  \n",
       "3       7.04                0          0.0                  1  \n",
       "4       7.64                0          0.0                  1  "
      ]
     },
     "execution_count": 1,
     "metadata": {},
     "output_type": "execute_result"
    }
   ],
   "source": [
    "import pandas\n",
    "%matplotlib inline\n",
    "\n",
    "frame = pandas.read_csv('sample.csv')\n",
    "\n",
    "#Setting appropiate datatypes\n",
    "frame[['Semana','Agencia_ID','Canal_ID','Ruta_SAK','Cliente_ID','Producto_ID']] = frame[['Semana','Agencia_ID','Canal_ID','Ruta_SAK','Cliente_ID','Producto_ID']].astype('str')\n",
    "\n",
    "frame[:5]"
   ]
  },
  {
   "cell_type": "code",
   "execution_count": 7,
   "metadata": {
    "collapsed": false
   },
   "outputs": [
    {
     "name": "stdout",
     "output_type": "stream",
     "text": [
      "1000000 observaciones donde -2044 <= 'venta-dev' <= 3198\n",
      "count    1000000.000000\n",
      "mean           7.212642\n",
      "std           21.987354\n",
      "min        -2044.000000\n",
      "25%            2.000000\n",
      "50%            3.000000\n",
      "75%            6.000000\n",
      "max         3198.000000\n",
      "Name: venta-dev, dtype: float64\n"
     ]
    },
    {
     "name": "stderr",
     "output_type": "stream",
     "text": [
      "/home/nbcommon/anaconda2_20/lib/python2.7/site-packages/IPython/kernel/__main__.py:9: UserWarning: Boolean Series key will be reindexed to match DataFrame index.\n"
     ]
    },
    {
     "name": "stdout",
     "output_type": "stream",
     "text": [
      "929448 observaciones donde -10 <= 'venta-dev' <= 18. 0.929448 del Total\n",
      "count    929448.000000\n",
      "mean          4.237707\n",
      "std           3.704788\n",
      "min         -10.000000\n",
      "25%           2.000000\n",
      "50%           3.000000\n",
      "75%           6.000000\n",
      "max          18.000000\n",
      "Name: venta-dev, dtype: float64\n"
     ]
    },
    {
     "data": {
      "text/plain": [
       "array([[<matplotlib.axes._subplots.AxesSubplot object at 0x7f88d2844310>]], dtype=object)"
      ]
     },
     "execution_count": 7,
     "metadata": {},
     "output_type": "execute_result"
    },
    {
     "data": {
      "image/png": "[encoded data removed]",
      "text/plain": [
       "<matplotlib.figure.Figure at 0x7f8903ed6610>"
      ]
     },
     "metadata": {},
     "output_type": "display_data"
    }
   ],
   "source": [
    "frame['venta-dev'] = frame['Venta_uni_hoy'] - frame['Dev_uni_proxima']\n",
    "print \"1000000 observaciones donde -2044 <= 'venta-dev' <= 3198\"\n",
    "print frame['venta-dev'].describe()\n",
    "\n",
    "RIQ = 4\n",
    "bigote_sup = 6 + 3*RIQ\n",
    "bigote_inf = 2 - 3*RIQ\n",
    "\n",
    "newframe = (frame[frame['venta-dev']>=bigote_inf])[frame['venta-dev']<=bigote_sup]\n",
    "print \"929448 observaciones donde -10 <= 'venta-dev' <= 18. 0.929448 del Total\"\n",
    "print newframe['venta-dev'].describe()\n",
    "pandas.DataFrame.hist(newframe, 'venta-dev', bins=28)"
   ]
  },
  {
   "cell_type": "markdown",
   "metadata": {},
   "source": [
    "# DEVUELVEN VS NO DEVUELVEN"
   ]
  },
  {
   "cell_type": "code",
   "execution_count": 2,
   "metadata": {
    "collapsed": false
   },
   "outputs": [
    {
     "name": "stderr",
     "output_type": "stream",
     "text": [
      "C:\\Users\\user\\AppData\\Local\\Continuum\\Anaconda2\\lib\\site-packages\\ipykernel\\__main__.py:4: UserWarning: Boolean Series key will be reindexed to match DataFrame index.\n"
     ]
    }
   ],
   "source": [
    "no_devuelven = frame[frame['Dev_uni_proxima']==0] #965517\n",
    "devuelven = frame[frame['Dev_uni_proxima']>0] #34483\n",
    "devuelven_mas = frame[frame['Dev_uni_proxima']>frame['Venta_uni_hoy']] #8539\n",
    "devuelven_menos = frame[frame['Dev_uni_proxima']<=frame['Venta_uni_hoy']][frame['Dev_uni_proxima']>0] #25944"
   ]
  },
  {
   "cell_type": "markdown",
   "metadata": {},
   "source": [
    "# SAMPLING NO DEVUELVEN"
   ]
  },
  {
   "cell_type": "code",
   "execution_count": 7,
   "metadata": {
    "collapsed": false
   },
   "outputs": [],
   "source": [
    "import random\n",
    "\n",
    "def simpleRandomSampling():\n",
    "    \"\"\"Simple Random Sampling (without replacement).\n",
    "        List sequential algorithm: FAN-MULLER.\n",
    "    \"\"\"\n",
    "    N = len(no_devuelven) #965517\n",
    "    n = 45000 #34483\n",
    "    nk = 0 #selected elems\n",
    "    k = 0 #elem index\n",
    "    indices = []\n",
    "\n",
    "    while nk < n:\n",
    "        k = k + 1\n",
    "        p = (n - nk)/ float(N - k + 1) #probability of elem k\n",
    "        newrandom = random.SystemRandom().random()\n",
    "        if newrandom < p:\n",
    "            nk = nk + 1\n",
    "            indices.append(k-1)\n",
    "    return indices\n",
    "            \n",
    "indices = simpleRandomSampling()\n",
    "no_devuelven_sample = no_devuelven.iloc[indices]"
   ]
  },
  {
   "cell_type": "markdown",
   "metadata": {
    "collapsed": false
   },
   "source": [
    "# MODELO DESCRIPTIVO"
   ]
  },
  {
   "cell_type": "code",
   "execution_count": 13,
   "metadata": {
    "collapsed": false
   },
   "outputs": [],
   "source": [
    "from sklearn import tree\n",
    "import numpy\n",
    "\n",
    "X = pandas.concat([devuelven, no_devuelven_sample])\n",
    "class1 =  numpy.ones(len(devuelven))\n",
    "class2 = numpy.zeros(len(no_devuelven_sample))\n",
    "Y = numpy.append(class1,class2)"
   ]
  },
  {
   "cell_type": "code",
   "execution_count": 14,
   "metadata": {
    "collapsed": true
   },
   "outputs": [],
   "source": [
    "dectree = tree.DecisionTreeClassifier(min_samples_split=10, min_samples_leaf=5)\n",
    "dectree = dectree.fit(X,Y)"
   ]
  },
  {
   "cell_type": "code",
   "execution_count": 11,
   "metadata": {
    "collapsed": true
   },
   "outputs": [],
   "source": [
    "X['Devuelven'] = Y\n",
    "X.to_csv('clasif.csv', encoding='utf-8')"
   ]
  },
  {
   "cell_type": "code",
   "execution_count": 18,
   "metadata": {
    "collapsed": false
   },
   "outputs": [
    {
     "name": "stderr",
     "output_type": "stream",
     "text": [
      "C:\\Users\\user\\AppData\\Local\\Continuum\\Anaconda2\\lib\\site-packages\\sklearn\\utils\\validation.py:386: DeprecationWarning: Passing 1d arrays as data is deprecated in 0.17 and willraise ValueError in 0.19. Reshape your data either using X.reshape(-1, 1) if your data has a single feature or X.reshape(1, -1) if it contains a single sample.\n",
      "  DeprecationWarning)\n"
     ]
    },
    {
     "data": {
      "text/plain": [
       "array([ 0.])"
      ]
     },
     "execution_count": 18,
     "metadata": {},
     "output_type": "execute_result"
    }
   ],
   "source": [
    "dectree.predict(X.iloc[68000])"
   ]
  },
  {
   "cell_type": "code",
   "execution_count": 16,
   "metadata": {
    "collapsed": false
   },
   "outputs": [
    {
     "data": {
      "text/plain": [
       "DecisionTreeClassifier(class_weight=None, criterion='gini', max_depth=None,\n",
       "            max_features=None, max_leaf_nodes=None, min_samples_leaf=5,\n",
       "            min_samples_split=10, min_weight_fraction_leaf=0.0,\n",
       "            presort=False, random_state=None, splitter='best')"
      ]
     },
     "execution_count": 16,
     "metadata": {},
     "output_type": "execute_result"
    }
   ],
   "source": [
    "dectree"
   ]
  },
  {
   "cell_type": "code",
   "execution_count": 6,
   "metadata": {
    "collapsed": false
   },
   "outputs": [
    {
     "data": {
      "text/plain": [
       "Semana                     9\n",
       "Agencia_ID             25759\n",
       "Canal_ID                   1\n",
       "Ruta_SAK                5517\n",
       "Cliente_ID           4388280\n",
       "Producto_ID            32861\n",
       "Venta_uni_hoy              4\n",
       "Venta_hoy               24.8\n",
       "Dev_uni_proxima            0\n",
       "Dev_proxima                0\n",
       "Demanda_uni_equil          4\n",
       "Name: 999999, dtype: object"
      ]
     },
     "execution_count": 6,
     "metadata": {},
     "output_type": "execute_result"
    }
   ],
   "source": [
    "no_devuelven.iloc[965516]"
   ]
  },
  {
   "cell_type": "code",
   "execution_count": null,
   "metadata": {
    "collapsed": true
   },
   "outputs": [],
   "source": []
  }
 ],
 "metadata": {
  "anaconda-cloud": {},
  "kernelspec": {
   "display_name": "Python [default]",
   "language": "python",
   "name": "python2"
  },
  "language_info": {
   "codemirror_mode": {
    "name": "ipython",
    "version": 2
   },
   "file_extension": ".py",
   "mimetype": "text/x-python",
   "name": "python",
   "nbconvert_exporter": "python",
   "pygments_lexer": "ipython2",
   "version": "2.7.12"
  }
 },
 "nbformat": 4,
 "nbformat_minor": 0
}
