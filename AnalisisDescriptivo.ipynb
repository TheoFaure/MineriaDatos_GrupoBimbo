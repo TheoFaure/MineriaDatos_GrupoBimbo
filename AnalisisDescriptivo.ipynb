{
 "cells": [
  {
   "cell_type": "markdown",
   "metadata": {},
   "source": [
    "# Analisis descriptivo de los datos\n",
    "Vamos a hacer una analisis de cada variable.\n",
    "\n",
    "Las variables disponibles son :\n",
    "* 0: Semana\n",
    "* 1: Agencia_ID\n",
    "* 2: Canal_ID\n",
    "* 3: Ruta_SAK\n",
    "* 4: Cliente_ID\n",
    "* 5: Producto_ID\n",
    "* 6: Venta_uni_hoy (número)\n",
    "* 7: Venta_hoy (pesos)\n",
    "* 8: Dev_uni_proxima (número)\n",
    "* 9: Dev_proxima (pesos)\n",
    "* 10: Demanda_uni_equil (número)"
   ]
  },
  {
   "cell_type": "code",
   "execution_count": 31,
   "metadata": {
    "collapsed": false
   },
   "outputs": [],
   "source": [
    "%matplotlib inline\n",
    "import matplotlib\n",
    "import numpy as np\n",
    "import matplotlib.pyplot as plt\n",
    "\n",
    "#datas = np.loadtxt(\"muestro.csv\", delimiter = \",\", skiprows = 1)\n",
    "df = pd.read_csv('trainSample.csv')\n",
    "\n",
    "cols_to_norm = ['Semana','Agencia_ID','Canal_ID','Ruta_SAK','Cliente_ID','Producto_ID',\n",
    "                'Venta_uni_hoy','Venta_hoy','Dev_uni_proxima','Dev_proxima','Demanda_uni_equil']\n",
    "datas = df[cols_to_norm].apply(lambda x: (x - x.min()) / (x.max() - x.min()))\n",
    "datas = datas.values"
   ]
  },
  {
   "cell_type": "markdown",
   "metadata": {},
   "source": [
    "## Semana"
   ]
  },
  {
   "cell_type": "code",
   "execution_count": 27,
   "metadata": {
    "collapsed": false
   },
   "outputs": [
    {
     "name": "stdout",
     "output_type": "stream",
     "text": [
      "min = 0.0\n",
      "max = 1.0\n"
     ]
    }
   ],
   "source": [
    "print(\"min = \" + str(np.min(datas, axis=0)[0]))\n",
    "print(\"max = \" + str(np.max(datas, axis=0)[0]))"
   ]
  },
  {
   "cell_type": "code",
   "execution_count": 28,
   "metadata": {
    "collapsed": false
   },
   "outputs": [
    {
     "name": "stdout",
     "output_type": "stream",
     "text": [
      "[ 0.  0.  0. ...,  1.  1.  1.]\n",
      "{0.0: 150302, 0.16666666666666666: 148397, 0.5: 137251, 1.0: 139817, 0.33333333333333331: 142848, 0.83333333333333337: 140356, 0.66666666666666663: 139657}\n"
     ]
    },
    {
     "data": {
      "image/png": "[encoded data removed]",
      "text/plain": [
       "<matplotlib.figure.Figure at 0x7fc13406ba58>"
      ]
     },
     "metadata": {},
     "output_type": "display_data"
    }
   ],
   "source": [
    "fig = plt.figure()\n",
    "ax = plt.subplot(111)\n",
    "print(datas[:, 0])\n",
    "\n",
    "list_semanas = {}\n",
    "for data in datas[:, 0]:\n",
    "    if data in list_semanas:\n",
    "        list_semanas[data] += 1\n",
    "    else:\n",
    "        list_semanas[data] = 1\n",
    "        \n",
    "ax.bar(list_semanas.keys(), list_semanas.values(), width=.1)\n",
    "ax.set_ylabel('Número')\n",
    "ax.set_xlabel('N°Semana')\n",
    "\n",
    "print(list_semanas)\n",
    "plt.show()"
   ]
  },
  {
   "cell_type": "markdown",
   "metadata": {},
   "source": [
    "## Agencia_ID"
   ]
  },
  {
   "cell_type": "code",
   "execution_count": 29,
   "metadata": {
    "collapsed": false
   },
   "outputs": [
    {
     "name": "stdout",
     "output_type": "stream",
     "text": [
      "[ 0.  0.  0. ...,  1.  1.  1.]\n",
      "Número de agencias unicas en el muestro : 2\n",
      "Número maximum de lineas para una misma agencia : 2875\n",
      "Número minimum de lineas para una misma agencia : 1\n"
     ]
    }
   ],
   "source": [
    "print(datas[:, 1])\n",
    "list_semanas = {}\n",
    "for data in datas[:, 1]:\n",
    "    if data in list_semanas:\n",
    "        list_semanas[float(data)] += 1\n",
    "    else:\n",
    "        list_semanas[float(data)] = 1\n",
    "        \n",
    "print(\"Número de agencias unicas en el muestro : \" + str(len(list_semanas.keys())))\n",
    "print(\"Número maximum de lineas para una misma agencia : \" + str(max(list_semanas.values())))\n",
    "print(\"Número minimum de lineas para una misma agencia : \" + str(min(list_semanas.values())))"
   ]
  },
  {
   "cell_type": "markdown",
   "metadata": {},
   "source": [
    "## Canal_ID"
   ]
  },
  {
   "cell_type": "code",
   "execution_count": 32,
   "metadata": {
    "collapsed": false
   },
   "outputs": [
    {
     "name": "stdout",
     "output_type": "stream",
     "text": [
      "[ 0.6  0.6  0.6 ...,  0.   0.   0. ]\n",
      "{0: 1986, 1: 662}\n"
     ]
    },
    {
     "data": {
      "image/png": "[encoded data removed]",
      "text/plain": [
       "<matplotlib.figure.Figure at 0x7fc133f536a0>"
      ]
     },
     "metadata": {},
     "output_type": "display_data"
    }
   ],
   "source": [
    "fig = plt.figure()\n",
    "ax = plt.subplot(111)\n",
    "print(datas[:, 2])\n",
    "list_semanas = {}\n",
    "for data in datas[:, 2]:\n",
    "    if data in list_semanas:\n",
    "        list_semanas[int(data)] += 1\n",
    "    else:\n",
    "        list_semanas[int(data)] = 1\n",
    "        \n",
    "print(list_semanas)\n",
    "ax.bar(list_semanas.keys(), list_semanas.values(), width=1)\n",
    "\n",
    "plt.show()"
   ]
  },
  {
   "cell_type": "markdown",
   "metadata": {},
   "source": [
    "## Ruta_SAK"
   ]
  },
  {
   "cell_type": "code",
   "execution_count": 34,
   "metadata": {
    "collapsed": false,
    "scrolled": true
   },
   "outputs": [
    {
     "name": "stdout",
     "output_type": "stream",
     "text": [
      "[ 0.91889732  0.91889732  0.91889732 ...,  0.00119856  0.00119856\n",
      "  0.00119856]\n",
      "Número de rutas unicas en el muestro : 2\n",
      "Número maximum de lineas para una misma ruta : 110\n",
      "Número minimum de lineas para una misma ruta : 1\n"
     ]
    }
   ],
   "source": [
    "print(datas[:, 3])\n",
    "list_semanas = {}\n",
    "for data in datas[:, 3]:\n",
    "    if data in list_semanas:\n",
    "        list_semanas[int(data)] += 1\n",
    "    else:\n",
    "        list_semanas[int(data)] = 1\n",
    "        \n",
    "print(\"Número de rutas unicas en el muestro : \" + str(len(list_semanas.keys())))\n",
    "print(\"Número maximum de lineas para una misma ruta : \" + str(max(list_semanas.values())))\n",
    "print(\"Número minimum de lineas para una misma ruta : \" + str(min(list_semanas.values())))"
   ]
  },
  {
   "cell_type": "markdown",
   "metadata": {},
   "source": [
    "## Cliente_ID"
   ]
  },
  {
   "cell_type": "code",
   "execution_count": 35,
   "metadata": {
    "collapsed": false
   },
   "outputs": [
    {
     "name": "stdout",
     "output_type": "stream",
     "text": [
      "[ 0.          0.          0.         ...,  0.00353585  0.00353585\n",
      "  0.00353585]\n",
      "Número de clientes unicos total : 935363\n",
      "Número de clientes unicos en el muestro : 2\n",
      "Número maximum de lineas para un mismo ciente : 14\n",
      "Número minimum de lineas para un mismo ciente : 1\n"
     ]
    }
   ],
   "source": [
    "print(datas[:, 4])\n",
    "list_semanas = {}\n",
    "for data in datas[:, 4]:\n",
    "    if data in list_semanas:\n",
    "        list_semanas[int(data)] += 1\n",
    "    else:\n",
    "        list_semanas[int(data)] = 1\n",
    "        \n",
    "print(\"Número de clientes unicos total : 935363\")\n",
    "print(\"Número de clientes unicos en el muestro : \" + str(len(list_semanas.keys())))\n",
    "print(\"Número maximum de lineas para un mismo ciente : \" + str(max(list_semanas.values())))\n",
    "print(\"Número minimum de lineas para un mismo ciente : \" + str(min(list_semanas.values())))"
   ]
  },
  {
   "cell_type": "markdown",
   "metadata": {},
   "source": [
    "## Producto_ID"
   ]
  },
  {
   "cell_type": "code",
   "execution_count": 56,
   "metadata": {
    "collapsed": false
   },
   "outputs": [
    {
     "name": "stdout",
     "output_type": "stream",
     "text": [
      "[  5310.   5380.   1146. ...,  32815.  32873.  34226.]\n",
      "Número de productos unicos total : 2593\n",
      "Número de productos unicos en el muestro : 1313\n",
      "Número maximum de lineas para un mismo producto : 29047\n",
      "Número minimum de lineas para un mismo producto : 1\n"
     ]
    }
   ],
   "source": [
    "print(datas[:, 5])\n",
    "list_semanas = {}\n",
    "for data in datas[:, 5]:\n",
    "    if data in list_semanas:\n",
    "        list_semanas[int(data)] += 1\n",
    "    else:\n",
    "        list_semanas[int(data)] = 1\n",
    "        \n",
    "print(\"Número de productos unicos total : 2593\")\n",
    "print(\"Número de productos unicos en el muestro : \" + str(len(list_semanas.keys())))\n",
    "print(\"Número maximum de lineas para un mismo producto : \" + str(max(list_semanas.values())))\n",
    "print(\"Número minimum de lineas para un mismo producto : \" + str(min(list_semanas.values())))"
   ]
  },
  {
   "cell_type": "markdown",
   "metadata": {},
   "source": [
    "## Venta_uni_hoy (número)"
   ]
  },
  {
   "cell_type": "code",
   "execution_count": 36,
   "metadata": {
    "collapsed": false
   },
   "outputs": [
    {
     "name": "stdout",
     "output_type": "stream",
     "text": [
      "median = 0.0025\n",
      "medio = 0.0066899689969\n",
      "moda = 0.001 that occurs 1355 times.\n",
      "min = 0.0\n",
      "max = 1.0\n",
      "variancia = 0.000731468237213\n",
      "deviancion estandar = 0.0270456694724\n"
     ]
    },
    {
     "data": {
      "image/png": "[encoded data removed]",
      "text/plain": [
       "<matplotlib.figure.Figure at 0x7fc17a6eacf8>"
      ]
     },
     "metadata": {},
     "output_type": "display_data"
    },
    {
     "data": {
      "image/png": "[encoded data removed]",
      "text/plain": [
       "<matplotlib.figure.Figure at 0x7fc13402b6a0>"
      ]
     },
     "metadata": {},
     "output_type": "display_data"
    }
   ],
   "source": [
    "from collections import Counter\n",
    "data_counter = Counter(datas[:, 6])\n",
    "\n",
    "print(\"median = \" + str(np.median(datas[:, 6])))\n",
    "print(\"medio = \" + str(np.mean(datas[:, 6])))\n",
    "print(\"moda = \" + str(data_counter.most_common(1)[0][0]) + \" that occurs \"+ str(data_counter.most_common(1)[0][1]) + \" times.\")\n",
    "print(\"min = \" + str(min(datas[:, 6])))\n",
    "print(\"max = \" + str(max(datas[:, 6])))\n",
    "print(\"variancia = \" + str(np.var(datas[:, 6])))\n",
    "print(\"deviancion estandar = \" + str(np.std(datas[:, 6])))\n",
    "\n",
    "plt.figure()\n",
    "plt.boxplot(datas[:, 6], showfliers=False)\n",
    "ax.set_xlabel('Ventas')\n",
    "plt.figure()\n",
    "plt.boxplot(datas[:, 6])\n",
    "plt.show()"
   ]
  },
  {
   "cell_type": "markdown",
   "metadata": {},
   "source": [
    "## Venta_hoy (pesos)"
   ]
  },
  {
   "cell_type": "code",
   "execution_count": 37,
   "metadata": {
    "collapsed": false
   },
   "outputs": [
    {
     "name": "stdout",
     "output_type": "stream",
     "text": [
      "median = 0.00333333333333\n",
      "medio = 0.00960508357243\n",
      "moda = 0.00107705160337 that occurs 109 times.\n",
      "min = 0.0\n",
      "max = 1.0\n",
      "variancia = 0.00087519803335\n",
      "deviancion estandar = 0.0295837461007\n"
     ]
    },
    {
     "data": {
      "image/png": "[encoded data removed]",
      "text/plain": [
       "<matplotlib.figure.Figure at 0x7fc133f93d30>"
      ]
     },
     "metadata": {},
     "output_type": "display_data"
    },
    {
     "data": {
      "image/png": "[encoded data removed]",
      "text/plain": [
       "<matplotlib.figure.Figure at 0x7fc138618860>"
      ]
     },
     "metadata": {},
     "output_type": "display_data"
    }
   ],
   "source": [
    "data_counter = Counter(datas[:, 7])\n",
    "\n",
    "print(\"median = \" + str(np.median(datas[:, 7])))\n",
    "print(\"medio = \" + str(np.mean(datas[:, 7])))\n",
    "print(\"moda = \" + str(data_counter.most_common(1)[0][0]) + \" that occurs \"+ str(data_counter.most_common(1)[0][1]) + \" times.\")\n",
    "print(\"min = \" + str(min(datas[:, 7])))\n",
    "print(\"max = \" + str(max(datas[:, 7])))\n",
    "print(\"variancia = \" + str(np.var(datas[:, 7])))\n",
    "print(\"deviancion estandar = \" + str(np.std(datas[:, 7])))\n",
    "\n",
    "plt.figure()\n",
    "plt.boxplot(datas[:, 7], showfliers=False)\n",
    "plt.figure()\n",
    "plt.boxplot(datas[:, 7])\n",
    "plt.show()"
   ]
  },
  {
   "cell_type": "markdown",
   "metadata": {},
   "source": [
    "## Dev_uni_proxima (número)"
   ]
  },
  {
   "cell_type": "code",
   "execution_count": 38,
   "metadata": {
    "collapsed": false,
    "scrolled": false
   },
   "outputs": [
    {
     "name": "stdout",
     "output_type": "stream",
     "text": [
      "median = 0.0\n",
      "medio = 0.000358567602792\n",
      "moda = 0.0 that occurs 9828 times.\n",
      "min = 0.0\n",
      "max = 1.0\n",
      "variancia = 0.000154033040951\n",
      "deviancion estandar = 0.0124110048324\n"
     ]
    },
    {
     "data": {
      "image/png": "[encoded data removed]",
      "text/plain": [
       "<matplotlib.figure.Figure at 0x7fc134007780>"
      ]
     },
     "metadata": {},
     "output_type": "display_data"
    }
   ],
   "source": [
    "data_counter = Counter(datas[:, 8])\n",
    "\n",
    "print(\"median = \" + str(np.median(datas[:, 8])))\n",
    "print(\"medio = \" + str(np.mean(datas[:, 8])))\n",
    "print(\"moda = \" + str(data_counter.most_common(1)[0][0]) + \" that occurs \"+ str(data_counter.most_common(1)[0][1]) + \" times.\")\n",
    "print(\"min = \" + str(min(datas[:, 8])))\n",
    "print(\"max = \" + str(max(datas[:, 8])))\n",
    "print(\"variancia = \" + str(np.var(datas[:, 8])))\n",
    "print(\"deviancion estandar = \" + str(np.std(datas[:, 8])))\n",
    "\n",
    "plt.figure()\n",
    "plt.boxplot(datas[:, 8])\n",
    "plt.show()\n"
   ]
  },
  {
   "cell_type": "markdown",
   "metadata": {},
   "source": [
    "## Dev_proxima (pesos)"
   ]
  },
  {
   "cell_type": "code",
   "execution_count": 39,
   "metadata": {
    "collapsed": false
   },
   "outputs": [
    {
     "name": "stdout",
     "output_type": "stream",
     "text": [
      "median = 0.0\n",
      "medio = 0.00100075632068\n",
      "moda = 0.0 that occurs 9828 times.\n",
      "min = 0.0\n",
      "max = 1.0\n",
      "variancia = 0.000297680369582\n",
      "deviancion estandar = 0.0172534161714\n"
     ]
    },
    {
     "data": {
      "image/png": "[encoded data removed]",
      "text/plain": [
       "<matplotlib.figure.Figure at 0x7fc138627128>"
      ]
     },
     "metadata": {},
     "output_type": "display_data"
    },
    {
     "data": {
      "image/png": "[encoded data removed]",
      "text/plain": [
       "<matplotlib.figure.Figure at 0x7fc13dcf3eb8>"
      ]
     },
     "metadata": {},
     "output_type": "display_data"
    }
   ],
   "source": [
    "data_counter = Counter(datas[:, 9])\n",
    "\n",
    "print(\"median = \" + str(np.median(datas[:, 9])))\n",
    "print(\"medio = \" + str(np.mean(datas[:, 9])))\n",
    "print(\"moda = \" + str(data_counter.most_common(1)[0][0]) + \" that occurs \"+ str(data_counter.most_common(1)[0][1]) + \" times.\")\n",
    "print(\"min = \" + str(min(datas[:, 9])))\n",
    "print(\"max = \" + str(max(datas[:, 9])))\n",
    "print(\"variancia = \" + str(np.var(datas[:, 9])))\n",
    "print(\"deviancion estandar = \" + str(np.std(datas[:, 9])))\n",
    "\n",
    "plt.figure()\n",
    "plt.boxplot(datas[:, 9], showfliers=False)\n",
    "plt.figure()\n",
    "plt.boxplot(datas[:, 9])\n",
    "plt.show()"
   ]
  },
  {
   "cell_type": "markdown",
   "metadata": {},
   "source": [
    "## Demanda_uni_equil (número)"
   ]
  },
  {
   "cell_type": "code",
   "execution_count": 40,
   "metadata": {
    "collapsed": false
   },
   "outputs": [
    {
     "name": "stdout",
     "output_type": "stream",
     "text": [
      "median = 0.0025\n",
      "medio = 0.00667161716172\n",
      "moda = 0.001 that occurs 1332 times.\n",
      "min = 0.0\n",
      "max = 1.0\n",
      "variancia = 0.000731602610756\n",
      "deviancion estandar = 0.0270481535554\n"
     ]
    },
    {
     "data": {
      "image/png": "[encoded data removed]",
      "text/plain": [
       "<matplotlib.figure.Figure at 0x7fc133fe1940>"
      ]
     },
     "metadata": {},
     "output_type": "display_data"
    },
    {
     "data": {
      "image/png": "[encoded data removed]",
      "text/plain": [
       "<matplotlib.figure.Figure at 0x7fc138607ac8>"
      ]
     },
     "metadata": {},
     "output_type": "display_data"
    }
   ],
   "source": [
    "data_counter = Counter(datas[:, 10])\n",
    "\n",
    "print(\"median = \" + str(np.median(datas[:, 10])))\n",
    "print(\"medio = \" + str(np.mean(datas[:, 10])))\n",
    "print(\"moda = \" + str(data_counter.most_common(1)[0][0]) + \" that occurs \"+ str(data_counter.most_common(1)[0][1]) + \" times.\")\n",
    "print(\"min = \" + str(min(datas[:, 10])))\n",
    "print(\"max = \" + str(max(datas[:, 10])))\n",
    "print(\"variancia = \" + str(np.var(datas[:, 10])))\n",
    "print(\"deviancion estandar = \" + str(np.std(datas[:, 10])))# coeficien de simetria\n",
    "\n",
    "plt.figure()\n",
    "plt.boxplot(datas[:, 10], showfliers=False)\n",
    "plt.figure()\n",
    "plt.boxplot(datas[:, 10])\n",
    "plt.show()"
   ]
  },
  {
   "cell_type": "code",
   "execution_count": 41,
   "metadata": {
    "collapsed": false
   },
   "outputs": [
    {
     "data": {
      "image/png": "[encoded data removed]",
      "text/plain": [
       "<matplotlib.figure.Figure at 0x7fc133fca0f0>"
      ]
     },
     "metadata": {},
     "output_type": "display_data"
    }
   ],
   "source": [
    "plt.figure()\n",
    "ax = plt.subplot(111)\n",
    "ax.boxplot(datas[:, 6], showfliers=False)\n",
    "ax.boxplot(datas[:, 10], showfliers=False)\n",
    "plt.show()"
   ]
  },
  {
   "cell_type": "code",
   "execution_count": 42,
   "metadata": {
    "collapsed": false,
    "scrolled": false
   },
   "outputs": [],
   "source": [
    "#Let's count the number of returns for agencia 1110.\n",
    "\n",
    "nb0 = 0\n",
    "for data in datas:\n",
    "    if data[1] == 1110:\n",
    "        if data[8] == 0:\n",
    "            nb0 += 1\n",
    "        if data[8] != 0:\n",
    "            print(\"nb of shipments without dev = \" + str(nb0))\n",
    "            nb0 = 0\n",
    "            print(\"dev : \" + str(data[8]) + \" in week \" + str(data[0]))"
   ]
  },
  {
   "cell_type": "markdown",
   "metadata": {
    "collapsed": true
   },
   "source": [
    "# Normalizacion"
   ]
  },
  {
   "cell_type": "code",
   "execution_count": null,
   "metadata": {
    "collapsed": true
   },
   "outputs": [],
   "source": []
  },
  {
   "cell_type": "code",
   "execution_count": null,
   "metadata": {
    "collapsed": true
   },
   "outputs": [],
   "source": []
  }
 ],
 "metadata": {
  "anaconda-cloud": {},
  "kernelspec": {
   "display_name": "Python [Root]",
   "language": "python",
   "name": "Python [Root]"
  },
  "language_info": {
   "codemirror_mode": {
    "name": "ipython",
    "version": 3
   },
   "file_extension": ".py",
   "mimetype": "text/x-python",
   "name": "python",
   "nbconvert_exporter": "python",
   "pygments_lexer": "ipython3",
   "version": "3.5.2"
  }
 },
 "nbformat": 4,
 "nbformat_minor": 0
}
