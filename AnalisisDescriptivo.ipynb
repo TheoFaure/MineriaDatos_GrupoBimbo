{
 "cells": [
  {
   "cell_type": "markdown",
   "metadata": {},
   "source": [
    "# Analisis descriptivo de los datos\n",
    "Vamos a hacer una analisis de cada variable.\n",
    "\n",
    "Las variables disponibles son :\n",
    "* 0: Semana\n",
    "* 1: Agencia_ID\n",
    "* 2: Canal_ID\n",
    "* 3: Ruta_SAK\n",
    "* 4: Cliente_ID\n",
    "* 5: Producto_ID\n",
    "* 6: Venta_uni_hoy (número)\n",
    "* 7: Venta_hoy (pesos)\n",
    "* 8: Dev_uni_proxima (número)\n",
    "* 9: Dev_proxima (pesos)\n",
    "* 10: Demanda_uni_equil (número)"
   ]
  },
  {
   "cell_type": "code",
   "execution_count": 2,
   "metadata": {
    "collapsed": false
   },
   "outputs": [],
   "source": [
    "%matplotlib inline\n",
    "import matplotlib\n",
    "import numpy as np\n",
    "import matplotlib.pyplot as plt\n",
    "\n",
    "datas = np.loadtxt(\"muestro.csv\", delimiter = \",\", skiprows = 1)\n",
    "#df = pd.read_csv('trainSample.csv')\n",
    "\n",
    "#cols_to_norm = ['Semana','Agencia_ID','Canal_ID','Ruta_SAK','Cliente_ID','Producto_ID',\n",
    "#                'Venta_uni_hoy','Venta_hoy','Dev_uni_proxima','Dev_proxima','Demanda_uni_equil']\n",
    "#datas = df[cols_to_norm].apply(lambda x: (x - x.min()) / (x.max() - x.min()))\n",
    "#datas = datas.values"
   ]
  },
  {
   "cell_type": "markdown",
   "metadata": {},
   "source": [
    "## Semana"
   ]
  },
  {
   "cell_type": "code",
   "execution_count": 3,
   "metadata": {
    "collapsed": false
   },
   "outputs": [
    {
     "name": "stdout",
     "output_type": "stream",
     "text": [
      "min = 3.0\n",
      "max = 9.0\n"
     ]
    }
   ],
   "source": [
    "print(\"min = \" + str(np.min(datas, axis=0)[0]))\n",
    "print(\"max = \" + str(np.max(datas, axis=0)[0]))"
   ]
  },
  {
   "cell_type": "code",
   "execution_count": 6,
   "metadata": {
    "collapsed": false
   },
   "outputs": [
    {
     "name": "stdout",
     "output_type": "stream",
     "text": [
      "[ 3.  3.  3. ...,  9.  9.  9.]\n",
      "{3.0: 150302, 4.0: 148397, 5.0: 142848, 6.0: 137251, 7.0: 139657, 8.0: 140356, 9.0: 139817}\n"
     ]
    },
    {
     "data": {
      "image/png": "[encoded data removed]",
      "text/plain": [
       "<matplotlib.figure.Figure at 0x7fdcfbff57b8>"
      ]
     },
     "metadata": {},
     "output_type": "display_data"
    }
   ],
   "source": [
    "fig = plt.figure()\n",
    "ax = plt.subplot(111)\n",
    "print(datas[:, 0])\n",
    "\n",
    "list_semanas = {}\n",
    "for data in datas[:, 0]:\n",
    "    if data in list_semanas:\n",
    "        list_semanas[data] += 1\n",
    "    else:\n",
    "        list_semanas[data] = 1\n",
    "        \n",
    "ax.bar(list_semanas.keys(), list_semanas.values(), width=1)\n",
    "ax.set_ylabel('Número')\n",
    "ax.set_xlabel('N°Semana')\n",
    "\n",
    "print(list_semanas)\n",
    "plt.show()"
   ]
  },
  {
   "cell_type": "markdown",
   "metadata": {},
   "source": [
    "## Agencia_ID"
   ]
  },
  {
   "cell_type": "code",
   "execution_count": 7,
   "metadata": {
    "collapsed": false
   },
   "outputs": [
    {
     "name": "stdout",
     "output_type": "stream",
     "text": [
      "[  1110.   1110.   1110. ...,  25759.  25759.  25759.]\n",
      "Número de agencias unicas en el muestro : 552\n",
      "Número maximum de lineas para una misma agencia : 10827\n",
      "Número minimum de lineas para una misma agencia : 1\n"
     ]
    }
   ],
   "source": [
    "print(datas[:, 1])\n",
    "list_semanas = {}\n",
    "for data in datas[:, 1]:\n",
    "    if data in list_semanas:\n",
    "        list_semanas[float(data)] += 1\n",
    "    else:\n",
    "        list_semanas[float(data)] = 1\n",
    "        \n",
    "print(\"Número de agencias unicas en el muestro : \" + str(len(list_semanas.keys())))\n",
    "print(\"Número maximum de lineas para una misma agencia : \" + str(max(list_semanas.values())))\n",
    "print(\"Número minimum de lineas para una misma agencia : \" + str(min(list_semanas.values())))"
   ]
  },
  {
   "cell_type": "markdown",
   "metadata": {},
   "source": [
    "## Canal_ID"
   ]
  },
  {
   "cell_type": "code",
   "execution_count": 10,
   "metadata": {
    "collapsed": false
   },
   "outputs": [
    {
     "name": "stdout",
     "output_type": "stream",
     "text": [
      "[ 7.  7.  7. ...,  1.  1.  1.]\n",
      "{1: 907886, 2: 11260, 4: 50570, 5: 1938, 6: 3792, 7: 8981, 8: 902, 9: 4, 11: 13295}\n"
     ]
    },
    {
     "data": {
      "image/png": "[encoded data removed]",
      "text/plain": [
       "<matplotlib.figure.Figure at 0x7fdcfc09fd30>"
      ]
     },
     "metadata": {},
     "output_type": "display_data"
    }
   ],
   "source": [
    "fig = plt.figure()\n",
    "ax = plt.subplot(111)\n",
    "print(datas[:, 2])\n",
    "list_semanas = {}\n",
    "for data in datas[:, 2]:\n",
    "    if data in list_semanas:\n",
    "        list_semanas[int(data)] += 1\n",
    "    else:\n",
    "        list_semanas[int(data)] = 1\n",
    "        \n",
    "print(list_semanas)\n",
    "ax.bar(list_semanas.keys(), list_semanas.values(), width=1)\n",
    "\n",
    "plt.show()"
   ]
  },
  {
   "cell_type": "markdown",
   "metadata": {},
   "source": [
    "## Ruta_SAK"
   ]
  },
  {
   "cell_type": "code",
   "execution_count": 11,
   "metadata": {
    "collapsed": false,
    "scrolled": true
   },
   "outputs": [
    {
     "name": "stdout",
     "output_type": "stream",
     "text": [
      "[ 3301.  3301.  3301. ...,  5517.  5517.  5517.]\n",
      "Número de rutas unicas en el muestro : 2265\n",
      "Número maximum de lineas para una misma ruta : 6122\n",
      "Número minimum de lineas para una misma ruta : 1\n"
     ]
    }
   ],
   "source": [
    "print(datas[:, 3])\n",
    "list_semanas = {}\n",
    "for data in datas[:, 3]:\n",
    "    if data in list_semanas:\n",
    "        list_semanas[int(data)] += 1\n",
    "    else:\n",
    "        list_semanas[int(data)] = 1\n",
    "        \n",
    "print(\"Número de rutas unicas en el muestro : \" + str(len(list_semanas.keys())))\n",
    "print(\"Número maximum de lineas para una misma ruta : \" + str(max(list_semanas.values())))\n",
    "print(\"Número minimum de lineas para una misma ruta : \" + str(min(list_semanas.values())))"
   ]
  },
  {
   "cell_type": "markdown",
   "metadata": {},
   "source": [
    "## Cliente_ID"
   ]
  },
  {
   "cell_type": "code",
   "execution_count": 12,
   "metadata": {
    "collapsed": false
   },
   "outputs": [
    {
     "name": "stdout",
     "output_type": "stream",
     "text": [
      "[  988589.  1307034.  1457784. ...,  4415921.  4483753.  4528866.]\n",
      "Número de clientes unicos total : 935363\n",
      "Número de clientes unicos en el muestro : 457852\n",
      "Número maximum de lineas para un mismo ciente : 1664\n",
      "Número minimum de lineas para un mismo ciente : 1\n"
     ]
    }
   ],
   "source": [
    "print(datas[:, 4])\n",
    "list_semanas = {}\n",
    "for data in datas[:, 4]:\n",
    "    if data in list_semanas:\n",
    "        list_semanas[int(data)] += 1\n",
    "    else:\n",
    "        list_semanas[int(data)] = 1\n",
    "        \n",
    "print(\"Número de clientes unicos total : 935363\")\n",
    "print(\"Número de clientes unicos en el muestro : \" + str(len(list_semanas.keys())))\n",
    "print(\"Número maximum de lineas para un mismo ciente : \" + str(max(list_semanas.values())))\n",
    "print(\"Número minimum de lineas para un mismo ciente : \" + str(min(list_semanas.values())))"
   ]
  },
  {
   "cell_type": "markdown",
   "metadata": {},
   "source": [
    "## Producto_ID"
   ]
  },
  {
   "cell_type": "code",
   "execution_count": 13,
   "metadata": {
    "collapsed": false
   },
   "outputs": [
    {
     "name": "stdout",
     "output_type": "stream",
     "text": [
      "[  5310.   5380.   1146. ...,  32815.  32873.  34226.]\n",
      "Número de productos unicos total : 2593\n",
      "Número de productos unicos en el muestro : 1313\n",
      "Número maximum de lineas para un mismo producto : 29047\n",
      "Número minimum de lineas para un mismo producto : 1\n"
     ]
    }
   ],
   "source": [
    "print(datas[:, 5])\n",
    "list_semanas = {}\n",
    "for data in datas[:, 5]:\n",
    "    if data in list_semanas:\n",
    "        list_semanas[int(data)] += 1\n",
    "    else:\n",
    "        list_semanas[int(data)] = 1\n",
    "        \n",
    "print(\"Número de productos unicos total : 2593\")\n",
    "print(\"Número de productos unicos en el muestro : \" + str(len(list_semanas.keys())))\n",
    "print(\"Número maximum de lineas para un mismo producto : \" + str(max(list_semanas.values())))\n",
    "print(\"Número minimum de lineas para un mismo producto : \" + str(min(list_semanas.values())))"
   ]
  },
  {
   "cell_type": "markdown",
   "metadata": {},
   "source": [
    "## Venta_uni_hoy (número)"
   ]
  },
  {
   "cell_type": "code",
   "execution_count": 14,
   "metadata": {
    "collapsed": false
   },
   "outputs": [
    {
     "name": "stdout",
     "output_type": "stream",
     "text": [
      "median = 3.0\n",
      "medio = 7.29024121094\n",
      "moda = 2.0 that occurs 206179 times.\n",
      "min = 0.0\n",
      "max = 4999.0\n",
      "variancia = 454.795932636\n",
      "deviancion estandar = 21.3259450585\n"
     ]
    },
    {
     "data": {
      "image/png": "[encoded data removed]",
      "text/plain": [
       "<matplotlib.figure.Figure at 0x7fdce208c898>"
      ]
     },
     "metadata": {},
     "output_type": "display_data"
    },
    {
     "data": {
      "image/png": "[encoded data removed]",
      "text/plain": [
       "<matplotlib.figure.Figure at 0x7fdcfb574828>"
      ]
     },
     "metadata": {},
     "output_type": "display_data"
    }
   ],
   "source": [
    "from collections import Counter\n",
    "data_counter = Counter(datas[:, 6])\n",
    "\n",
    "print(\"median = \" + str(np.median(datas[:, 6])))\n",
    "print(\"medio = \" + str(np.mean(datas[:, 6])))\n",
    "print(\"moda = \" + str(data_counter.most_common(1)[0][0]) + \" that occurs \"+ str(data_counter.most_common(1)[0][1]) + \" times.\")\n",
    "print(\"min = \" + str(min(datas[:, 6])))\n",
    "print(\"max = \" + str(max(datas[:, 6])))\n",
    "print(\"variancia = \" + str(np.var(datas[:, 6])))\n",
    "print(\"deviancion estandar = \" + str(np.std(datas[:, 6])))\n",
    "\n",
    "plt.figure()\n",
    "plt.boxplot(datas[:, 6], showfliers=False)\n",
    "ax.set_xlabel('Ventas')\n",
    "plt.figure()\n",
    "plt.boxplot(datas[:, 6])\n",
    "plt.show()"
   ]
  },
  {
   "cell_type": "markdown",
   "metadata": {},
   "source": [
    "## Venta_hoy (pesos)"
   ]
  },
  {
   "cell_type": "code",
   "execution_count": 15,
   "metadata": {
    "collapsed": false
   },
   "outputs": [
    {
     "name": "stdout",
     "output_type": "stream",
     "text": [
      "median = 30.0\n",
      "medio = 68.9154029028\n",
      "moda = 16.76 that occurs 17701 times.\n",
      "min = 0.0\n",
      "max = 388416.0\n",
      "variancia = 237674.429806\n",
      "deviancion estandar = 487.518645598\n"
     ]
    },
    {
     "data": {
      "image/png": "[encoded data removed]",
      "text/plain": [
       "<matplotlib.figure.Figure at 0x7fdcfbedc588>"
      ]
     },
     "metadata": {},
     "output_type": "display_data"
    },
    {
     "data": {
      "image/png": "[encoded data removed]",
      "text/plain": [
       "<matplotlib.figure.Figure at 0x7fdcfa6c3a90>"
      ]
     },
     "metadata": {},
     "output_type": "display_data"
    }
   ],
   "source": [
    "data_counter = Counter(datas[:, 7])\n",
    "\n",
    "print(\"median = \" + str(np.median(datas[:, 7])))\n",
    "print(\"medio = \" + str(np.mean(datas[:, 7])))\n",
    "print(\"moda = \" + str(data_counter.most_common(1)[0][0]) + \" that occurs \"+ str(data_counter.most_common(1)[0][1]) + \" times.\")\n",
    "print(\"min = \" + str(min(datas[:, 7])))\n",
    "print(\"max = \" + str(max(datas[:, 7])))\n",
    "print(\"variancia = \" + str(np.var(datas[:, 7])))\n",
    "print(\"deviancion estandar = \" + str(np.std(datas[:, 7])))\n",
    "\n",
    "plt.figure()\n",
    "plt.boxplot(datas[:, 7], showfliers=False)\n",
    "plt.figure()\n",
    "plt.boxplot(datas[:, 7])\n",
    "plt.show()"
   ]
  },
  {
   "cell_type": "markdown",
   "metadata": {},
   "source": [
    "## Dev_uni_proxima (número)"
   ]
  },
  {
   "cell_type": "code",
   "execution_count": 16,
   "metadata": {
    "collapsed": false,
    "scrolled": false
   },
   "outputs": [
    {
     "name": "stdout",
     "output_type": "stream",
     "text": [
      "median = 0.0\n",
      "medio = 0.124786206676\n",
      "moda = 0.0 that occurs 964316 times.\n",
      "min = 0.0\n",
      "max = 909.0\n",
      "variancia = 5.19852113786\n",
      "deviancion estandar = 2.28002656516\n"
     ]
    },
    {
     "data": {
      "image/png": "[encoded data removed]",
      "text/plain": [
       "<matplotlib.figure.Figure at 0x7fdcfbf40a58>"
      ]
     },
     "metadata": {},
     "output_type": "display_data"
    }
   ],
   "source": [
    "data_counter = Counter(datas[:, 8])\n",
    "\n",
    "print(\"median = \" + str(np.median(datas[:, 8])))\n",
    "print(\"medio = \" + str(np.mean(datas[:, 8])))\n",
    "print(\"moda = \" + str(data_counter.most_common(1)[0][0]) + \" that occurs \"+ str(data_counter.most_common(1)[0][1]) + \" times.\")\n",
    "print(\"min = \" + str(min(datas[:, 8])))\n",
    "print(\"max = \" + str(max(datas[:, 8])))\n",
    "print(\"variancia = \" + str(np.var(datas[:, 8])))\n",
    "print(\"deviancion estandar = \" + str(np.std(datas[:, 8])))\n",
    "\n",
    "plt.figure()\n",
    "plt.boxplot(datas[:, 8])\n",
    "plt.show()\n"
   ]
  },
  {
   "cell_type": "markdown",
   "metadata": {},
   "source": [
    "## Dev_proxima (pesos)"
   ]
  },
  {
   "cell_type": "code",
   "execution_count": 17,
   "metadata": {
    "collapsed": false
   },
   "outputs": [
    {
     "name": "stdout",
     "output_type": "stream",
     "text": [
      "median = 0.0\n",
      "medio = 1.24677420421\n",
      "moda = 0.0 that occurs 964316 times.\n",
      "min = 0.0\n",
      "max = 21616.02\n",
      "variancia = 1009.17422744\n",
      "deviancion estandar = 31.7675026944\n"
     ]
    },
    {
     "data": {
      "image/png": "[encoded data removed]",
      "text/plain": [
       "<matplotlib.figure.Figure at 0x7fdce2066710>"
      ]
     },
     "metadata": {},
     "output_type": "display_data"
    },
    {
     "data": {
      "image/png": "[encoded data removed]",
      "text/plain": [
       "<matplotlib.figure.Figure at 0x7fdcfbf55550>"
      ]
     },
     "metadata": {},
     "output_type": "display_data"
    }
   ],
   "source": [
    "data_counter = Counter(datas[:, 9])\n",
    "\n",
    "print(\"median = \" + str(np.median(datas[:, 9])))\n",
    "print(\"medio = \" + str(np.mean(datas[:, 9])))\n",
    "print(\"moda = \" + str(data_counter.most_common(1)[0][0]) + \" that occurs \"+ str(data_counter.most_common(1)[0][1]) + \" times.\")\n",
    "print(\"min = \" + str(min(datas[:, 9])))\n",
    "print(\"max = \" + str(max(datas[:, 9])))\n",
    "print(\"variancia = \" + str(np.var(datas[:, 9])))\n",
    "print(\"deviancion estandar = \" + str(np.std(datas[:, 9])))\n",
    "\n",
    "plt.figure()\n",
    "plt.boxplot(datas[:, 9], showfliers=False)\n",
    "plt.figure()\n",
    "plt.boxplot(datas[:, 9])\n",
    "plt.show()"
   ]
  },
  {
   "cell_type": "markdown",
   "metadata": {},
   "source": [
    "## Demanda_uni_equil (número)"
   ]
  },
  {
   "cell_type": "code",
   "execution_count": 18,
   "metadata": {
    "collapsed": false
   },
   "outputs": [
    {
     "name": "stdout",
     "output_type": "stream",
     "text": [
      "median = 3.0\n",
      "medio = 7.20640518792\n",
      "moda = 2.0 that occurs 202086 times.\n",
      "min = 0.0\n",
      "max = 4999.0\n",
      "variancia = 448.06572152\n",
      "deviancion estandar = 21.1675629566\n"
     ]
    },
    {
     "data": {
      "image/png": "[encoded data removed]",
      "text/plain": [
       "<matplotlib.figure.Figure at 0x7fdce201e860>"
      ]
     },
     "metadata": {},
     "output_type": "display_data"
    },
    {
     "data": {
      "image/png": "[encoded data removed]",
      "text/plain": [
       "<matplotlib.figure.Figure at 0x7fdcfbef9358>"
      ]
     },
     "metadata": {},
     "output_type": "display_data"
    }
   ],
   "source": [
    "data_counter = Counter(datas[:, 10])\n",
    "\n",
    "print(\"median = \" + str(np.median(datas[:, 10])))\n",
    "print(\"medio = \" + str(np.mean(datas[:, 10])))\n",
    "print(\"moda = \" + str(data_counter.most_common(1)[0][0]) + \" that occurs \"+ str(data_counter.most_common(1)[0][1]) + \" times.\")\n",
    "print(\"min = \" + str(min(datas[:, 10])))\n",
    "print(\"max = \" + str(max(datas[:, 10])))\n",
    "print(\"variancia = \" + str(np.var(datas[:, 10])))\n",
    "print(\"deviancion estandar = \" + str(np.std(datas[:, 10])))# coeficien de simetria\n",
    "\n",
    "plt.figure()\n",
    "plt.boxplot(datas[:, 10], showfliers=False)\n",
    "plt.figure()\n",
    "plt.boxplot(datas[:, 10])\n",
    "plt.show()"
   ]
  },
  {
   "cell_type": "code",
   "execution_count": 19,
   "metadata": {
    "collapsed": false
   },
   "outputs": [
    {
     "data": {
      "image/png": "[encoded data removed]",
      "text/plain": [
       "<matplotlib.figure.Figure at 0x7fdcfbf0b278>"
      ]
     },
     "metadata": {},
     "output_type": "display_data"
    }
   ],
   "source": [
    "plt.figure()\n",
    "ax = plt.subplot(111)\n",
    "ax.boxplot(datas[:, 6], showfliers=False)\n",
    "ax.boxplot(datas[:, 10], showfliers=False)\n",
    "plt.show()"
   ]
  },
  {
   "cell_type": "code",
   "execution_count": 20,
   "metadata": {
    "collapsed": false,
    "scrolled": false
   },
   "outputs": [
    {
     "name": "stdout",
     "output_type": "stream",
     "text": [
      "nb of shipments without dev = 195\n",
      "dev : 3.0 in week 5.0\n",
      "nb of shipments without dev = 2\n",
      "dev : 1.0 in week 5.0\n",
      "nb of shipments without dev = 77\n",
      "dev : 5.0 in week 5.0\n",
      "nb of shipments without dev = 10\n",
      "dev : 20.0 in week 5.0\n",
      "nb of shipments without dev = 47\n",
      "dev : 36.0 in week 6.0\n",
      "nb of shipments without dev = 57\n",
      "dev : 5.0 in week 6.0\n",
      "nb of shipments without dev = 0\n",
      "dev : 1.0 in week 6.0\n",
      "nb of shipments without dev = 21\n",
      "dev : 65.0 in week 7.0\n",
      "nb of shipments without dev = 91\n",
      "dev : 5.0 in week 8.0\n",
      "nb of shipments without dev = 20\n",
      "dev : 6.0 in week 8.0\n",
      "nb of shipments without dev = 28\n",
      "dev : 3.0 in week 8.0\n",
      "nb of shipments without dev = 58\n",
      "dev : 30.0 in week 9.0\n",
      "nb of shipments without dev = 84\n",
      "dev : 24.0 in week 9.0\n"
     ]
    }
   ],
   "source": [
    "#Let's count the number of returns for agencia 1110.\n",
    "\n",
    "nb0 = 0\n",
    "for data in datas:\n",
    "    if data[1] == 1110:\n",
    "        if data[8] == 0:\n",
    "            nb0 += 1\n",
    "        if data[8] != 0:\n",
    "            print(\"nb of shipments without dev = \" + str(nb0))\n",
    "            nb0 = 0\n",
    "            print(\"dev : \" + str(data[8]) + \" in week \" + str(data[0]))"
   ]
  },
  {
   "cell_type": "markdown",
   "metadata": {
    "collapsed": true
   },
   "source": [
    "# Normalizacion"
   ]
  },
  {
   "cell_type": "code",
   "execution_count": null,
   "metadata": {
    "collapsed": true
   },
   "outputs": [],
   "source": []
  },
  {
   "cell_type": "code",
   "execution_count": null,
   "metadata": {
    "collapsed": true
   },
   "outputs": [],
   "source": []
  }
 ],
 "metadata": {
  "anaconda-cloud": {},
  "kernelspec": {
   "display_name": "Python [Root]",
   "language": "python",
   "name": "Python [Root]"
  },
  "language_info": {
   "codemirror_mode": {
    "name": "ipython",
    "version": 3
   },
   "file_extension": ".py",
   "mimetype": "text/x-python",
   "name": "python",
   "nbconvert_exporter": "python",
   "pygments_lexer": "ipython3",
   "version": "3.5.2"
  }
 },
 "nbformat": 4,
 "nbformat_minor": 0
}
